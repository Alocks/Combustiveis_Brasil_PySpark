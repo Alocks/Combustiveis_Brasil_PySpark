{
 "cells": [
  {
   "cell_type": "code",
   "execution_count": 5,
   "metadata": {},
   "outputs": [
    {
     "data": {
      "text/plain": [
       "'C:\\\\spark\\\\spark-2.4.4-bin-hadoop2.7'"
      ]
     },
     "execution_count": 5,
     "metadata": {},
     "output_type": "execute_result"
    }
   ],
   "source": [
    "import findspark\n",
    "findspark.init()\n",
    "findspark.find()"
   ]
  },
  {
   "cell_type": "code",
   "execution_count": 56,
   "metadata": {},
   "outputs": [],
   "source": [
    "from pyspark import SparkContext, SparkConf\n",
    "from pyspark.sql import SparkSession, SQLContext\n",
    "from pyspark.sql.types import*\n",
    "from pyspark.sql.window import Window\n",
    "from pyspark.sql.functions import*"
   ]
  },
  {
   "cell_type": "code",
   "execution_count": 7,
   "metadata": {},
   "outputs": [
    {
     "ename": "ValueError",
     "evalue": "Cannot run multiple SparkContexts at once; existing SparkContext(app=teste_eleflow, master=local) created by __init__ at <ipython-input-4-39205cd95c47>:2 ",
     "output_type": "error",
     "traceback": [
      "\u001b[1;31m---------------------------------------------------------------------------\u001b[0m",
      "\u001b[1;31mValueError\u001b[0m                                Traceback (most recent call last)",
      "\u001b[1;32m<ipython-input-7-39205cd95c47>\u001b[0m in \u001b[0;36m<module>\u001b[1;34m\u001b[0m\n\u001b[0;32m      1\u001b[0m \u001b[0mconf\u001b[0m \u001b[1;33m=\u001b[0m \u001b[0mSparkConf\u001b[0m\u001b[1;33m(\u001b[0m\u001b[1;33m)\u001b[0m\u001b[1;33m.\u001b[0m\u001b[0msetAppName\u001b[0m\u001b[1;33m(\u001b[0m\u001b[1;34m'teste_eleflow'\u001b[0m\u001b[1;33m)\u001b[0m\u001b[1;33m.\u001b[0m\u001b[0msetMaster\u001b[0m\u001b[1;33m(\u001b[0m\u001b[1;34m'local'\u001b[0m\u001b[1;33m)\u001b[0m\u001b[1;33m.\u001b[0m\u001b[0mset\u001b[0m\u001b[1;33m(\u001b[0m\u001b[1;34m'spark.driver.host'\u001b[0m\u001b[1;33m,\u001b[0m \u001b[1;34m'localhost'\u001b[0m\u001b[1;33m)\u001b[0m\u001b[1;33m\u001b[0m\u001b[1;33m\u001b[0m\u001b[0m\n\u001b[1;32m----> 2\u001b[1;33m \u001b[0msc\u001b[0m \u001b[1;33m=\u001b[0m \u001b[0mSparkContext\u001b[0m\u001b[1;33m(\u001b[0m\u001b[0mconf\u001b[0m\u001b[1;33m=\u001b[0m\u001b[0mconf\u001b[0m\u001b[1;33m)\u001b[0m\u001b[1;33m\u001b[0m\u001b[1;33m\u001b[0m\u001b[0m\n\u001b[0m\u001b[0;32m      3\u001b[0m \u001b[0mspark\u001b[0m \u001b[1;33m=\u001b[0m \u001b[0mSparkSession\u001b[0m\u001b[1;33m(\u001b[0m\u001b[0msc\u001b[0m\u001b[1;33m)\u001b[0m\u001b[1;33m\u001b[0m\u001b[1;33m\u001b[0m\u001b[0m\n",
      "\u001b[1;32mC:\\spark\\spark-2.4.4-bin-hadoop2.7\\python\\pyspark\\context.py\u001b[0m in \u001b[0;36m__init__\u001b[1;34m(self, master, appName, sparkHome, pyFiles, environment, batchSize, serializer, conf, gateway, jsc, profiler_cls)\u001b[0m\n\u001b[0;32m    131\u001b[0m                     \" note this option will be removed in Spark 3.0\")\n\u001b[0;32m    132\u001b[0m \u001b[1;33m\u001b[0m\u001b[0m\n\u001b[1;32m--> 133\u001b[1;33m         \u001b[0mSparkContext\u001b[0m\u001b[1;33m.\u001b[0m\u001b[0m_ensure_initialized\u001b[0m\u001b[1;33m(\u001b[0m\u001b[0mself\u001b[0m\u001b[1;33m,\u001b[0m \u001b[0mgateway\u001b[0m\u001b[1;33m=\u001b[0m\u001b[0mgateway\u001b[0m\u001b[1;33m,\u001b[0m \u001b[0mconf\u001b[0m\u001b[1;33m=\u001b[0m\u001b[0mconf\u001b[0m\u001b[1;33m)\u001b[0m\u001b[1;33m\u001b[0m\u001b[1;33m\u001b[0m\u001b[0m\n\u001b[0m\u001b[0;32m    134\u001b[0m         \u001b[1;32mtry\u001b[0m\u001b[1;33m:\u001b[0m\u001b[1;33m\u001b[0m\u001b[1;33m\u001b[0m\u001b[0m\n\u001b[0;32m    135\u001b[0m             self._do_init(master, appName, sparkHome, pyFiles, environment, batchSize, serializer,\n",
      "\u001b[1;32mC:\\spark\\spark-2.4.4-bin-hadoop2.7\\python\\pyspark\\context.py\u001b[0m in \u001b[0;36m_ensure_initialized\u001b[1;34m(cls, instance, gateway, conf)\u001b[0m\n\u001b[0;32m    330\u001b[0m                         \u001b[1;34m\" created by %s at %s:%s \"\u001b[0m\u001b[1;33m\u001b[0m\u001b[1;33m\u001b[0m\u001b[0m\n\u001b[0;32m    331\u001b[0m                         % (currentAppName, currentMaster,\n\u001b[1;32m--> 332\u001b[1;33m                             callsite.function, callsite.file, callsite.linenum))\n\u001b[0m\u001b[0;32m    333\u001b[0m                 \u001b[1;32melse\u001b[0m\u001b[1;33m:\u001b[0m\u001b[1;33m\u001b[0m\u001b[1;33m\u001b[0m\u001b[0m\n\u001b[0;32m    334\u001b[0m                     \u001b[0mSparkContext\u001b[0m\u001b[1;33m.\u001b[0m\u001b[0m_active_spark_context\u001b[0m \u001b[1;33m=\u001b[0m \u001b[0minstance\u001b[0m\u001b[1;33m\u001b[0m\u001b[1;33m\u001b[0m\u001b[0m\n",
      "\u001b[1;31mValueError\u001b[0m: Cannot run multiple SparkContexts at once; existing SparkContext(app=teste_eleflow, master=local) created by __init__ at <ipython-input-4-39205cd95c47>:2 "
     ]
    }
   ],
   "source": [
    "conf = SparkConf().setAppName('teste_eleflow').setMaster('local').set('spark.driver.host', 'localhost')\n",
    "sc = SparkContext(conf=conf)\n",
    "spark = SparkSession(sc)"
   ]
  },
  {
   "cell_type": "code",
   "execution_count": 8,
   "metadata": {},
   "outputs": [
    {
     "data": {
      "text/html": [
       "\n",
       "            <div>\n",
       "                <p><b>SparkSession - in-memory</b></p>\n",
       "                \n",
       "        <div>\n",
       "            <p><b>SparkContext</b></p>\n",
       "\n",
       "            <p><a href=\"http://localhost:4041\">Spark UI</a></p>\n",
       "\n",
       "            <dl>\n",
       "              <dt>Version</dt>\n",
       "                <dd><code>v2.4.4</code></dd>\n",
       "              <dt>Master</dt>\n",
       "                <dd><code>local</code></dd>\n",
       "              <dt>AppName</dt>\n",
       "                <dd><code>teste_eleflow</code></dd>\n",
       "            </dl>\n",
       "        </div>\n",
       "        \n",
       "            </div>\n",
       "        "
      ],
      "text/plain": [
       "<pyspark.sql.session.SparkSession at 0x236d2c0f9e8>"
      ]
     },
     "execution_count": 8,
     "metadata": {},
     "output_type": "execute_result"
    }
   ],
   "source": [
    "spark"
   ]
  },
  {
   "cell_type": "code",
   "execution_count": 47,
   "metadata": {},
   "outputs": [],
   "source": [
    "# Definindo estrutura para melhorar performance\n",
    "schema = StructType([\n",
    "    StructField('mes', IntegerType()),\n",
    "    StructField('regiao', StringType()),\n",
    "    StructField('estado', StringType()),\n",
    "    StructField('municipio', StringType()),\n",
    "    StructField('produto', StringType()),\n",
    "    StructField('n_postos_pesquisados', IntegerType()),\n",
    "    StructField('unidade_medida', StringType()),\n",
    "    StructField('rev_preco_medio', FloatType()),\n",
    "    StructField('rev_preco_minimo', FloatType()),\n",
    "    StructField('rev_preco_maximo', FloatType()),\n",
    "    StructField('dist_preco_medio', FloatType()),\n",
    "    StructField('dist_preco_minimo', FloatType()),\n",
    "    StructField('dist_preco_maximo', FloatType()),\n",
    "])\n",
    "\n",
    "sqlContext = SQLContext(spark.sparkContext)\n",
    "df = spark.read.csv(path='df_limpo.csv', header=True, schema=schema).cache()"
   ]
  },
  {
   "cell_type": "code",
   "execution_count": 10,
   "metadata": {},
   "outputs": [
    {
     "name": "stdout",
     "output_type": "stream",
     "text": [
      "root\n",
      " |-- mes: integer (nullable = true)\n",
      " |-- regiao: string (nullable = true)\n",
      " |-- estado: string (nullable = true)\n",
      " |-- municipio: string (nullable = true)\n",
      " |-- produto: string (nullable = true)\n",
      " |-- n_postos_pesquisados: integer (nullable = true)\n",
      " |-- unidade_medida: string (nullable = true)\n",
      " |-- rev_preco_medio: float (nullable = true)\n",
      " |-- rev_preco_minimo: float (nullable = true)\n",
      " |-- rev_preco_maximo: float (nullable = true)\n",
      " |-- dist_preco_medio: float (nullable = true)\n",
      " |-- dist_preco_minimo: float (nullable = true)\n",
      " |-- dist_preco_maximo: float (nullable = true)\n",
      "\n"
     ]
    }
   ],
   "source": [
    "df.printSchema()"
   ]
  },
  {
   "cell_type": "code",
   "execution_count": 11,
   "metadata": {},
   "outputs": [
    {
     "name": "stdout",
     "output_type": "stream",
     "text": [
      "+---+--------------------+----------------+---------------+\n",
      "|mes|           municipio|         produto|rev_preco_medio|\n",
      "+---+--------------------+----------------+---------------+\n",
      "|  1|          ABAETETUBA|ETANOL HIDRATADO|           4.65|\n",
      "|  1|          ACAILANDIA|ETANOL HIDRATADO|           3.43|\n",
      "|  1|          ADAMANTINA|ETANOL HIDRATADO|            2.6|\n",
      "|  1|AGUAS LINDAS DE G...|ETANOL HIDRATADO|           2.91|\n",
      "|  1|          ALAGOINHAS|ETANOL HIDRATADO|           3.25|\n",
      "|  1|            ALEGRETE|ETANOL HIDRATADO|           4.18|\n",
      "|  1|             ALFENAS|ETANOL HIDRATADO|           2.94|\n",
      "|  1|       ALTA FLORESTA|ETANOL HIDRATADO|           3.12|\n",
      "|  1|            ALVORADA|ETANOL HIDRATADO|           3.93|\n",
      "|  1|           AMERICANA|ETANOL HIDRATADO|            2.5|\n",
      "|  1|              AMPARO|ETANOL HIDRATADO|           2.81|\n",
      "|  1|          ANANINDEUA|ETANOL HIDRATADO|           3.47|\n",
      "|  1|            ANAPOLIS|ETANOL HIDRATADO|           2.78|\n",
      "|  1|      ANGRA DOS REIS|ETANOL HIDRATADO|           3.84|\n",
      "|  1|APARECIDA DE GOIANIA|ETANOL HIDRATADO|            3.0|\n",
      "|  1|           APUCARANA|ETANOL HIDRATADO|            2.9|\n",
      "|  1|             ARACAJU|ETANOL HIDRATADO|           3.27|\n",
      "|  1|           ARACATUBA|ETANOL HIDRATADO|           2.42|\n",
      "|  1|             ARACRUZ|ETANOL HIDRATADO|           3.81|\n",
      "|  1|           ARAGUAINA|ETANOL HIDRATADO|           3.77|\n",
      "+---+--------------------+----------------+---------------+\n",
      "only showing top 20 rows\n",
      "\n"
     ]
    }
   ],
   "source": [
    "# Irá ser calculado tanto valor de distribuição, assim como valor de revenda para todas as questões\n",
    "# Por isso estou usando exec(). Para economizar linha no código\n",
    "dict = {'rev' : 'rev_preco_medio', \n",
    "        'dist' :'dist_preco_medio'}\n",
    "\n",
    "for i in dict:\n",
    "    exec(\"q1_\"+i+\"=df.filter(col('\"+dict[i]+\"') > 0).sort(col('mes'))\")\n",
    "    exec(\"q1_\"+i+\"=q1_\"+i+\".groupBy('mes', 'municipio', 'produto')\")\n",
    "    exec(\"q1_\"+i+\"=q1_\"+i+\".agg(round(avg('\"+dict[i]+\"'),2))\")\n",
    "    exec(\"q1_\"+i+\"=q1_\"+i+\".withColumnRenamed('round(avg(\"+i+\"_preco_medio), 2)','\"+i+\"_preco_medio')\")\n",
    "\n",
    "# DataFrame agrupada por mês e médias de valores de cada combustível por cidade\n",
    "q1_rev.show()"
   ]
  },
  {
   "cell_type": "code",
   "execution_count": 12,
   "metadata": {},
   "outputs": [
    {
     "name": "stdout",
     "output_type": "stream",
     "text": [
      "+------------+------------------+----------------+---------------+\n",
      "|      regiao|            estado|         produto|rev_preco_medio|\n",
      "+------------+------------------+----------------+---------------+\n",
      "|CENTRO OESTE|             GOIAS|ETANOL HIDRATADO|           2.96|\n",
      "|CENTRO OESTE|       MATO GROSSO|ETANOL HIDRATADO|           2.72|\n",
      "|CENTRO OESTE|  DISTRITO FEDERAL|ETANOL HIDRATADO|           3.25|\n",
      "|CENTRO OESTE|MATO GROSSO DO SUL|ETANOL HIDRATADO|           3.52|\n",
      "|CENTRO OESTE|             GOIAS|     ÓLEO DIESEL|           3.59|\n",
      "|CENTRO OESTE|       MATO GROSSO|     ÓLEO DIESEL|           3.94|\n",
      "|CENTRO OESTE|  DISTRITO FEDERAL|     ÓLEO DIESEL|            3.7|\n",
      "|CENTRO OESTE|MATO GROSSO DO SUL|     ÓLEO DIESEL|           3.65|\n",
      "|CENTRO OESTE|             GOIAS| ÓLEO DIESEL S10|            3.7|\n",
      "|CENTRO OESTE|       MATO GROSSO| ÓLEO DIESEL S10|           4.04|\n",
      "|CENTRO OESTE|  DISTRITO FEDERAL| ÓLEO DIESEL S10|           3.83|\n",
      "|CENTRO OESTE|MATO GROSSO DO SUL| ÓLEO DIESEL S10|           3.76|\n",
      "|CENTRO OESTE|             GOIAS|  GASOLINA COMUM|           4.49|\n",
      "|CENTRO OESTE|       MATO GROSSO|  GASOLINA COMUM|           4.55|\n",
      "|CENTRO OESTE|  DISTRITO FEDERAL|  GASOLINA COMUM|           4.26|\n",
      "|CENTRO OESTE|MATO GROSSO DO SUL|  GASOLINA COMUM|           4.33|\n",
      "|CENTRO OESTE|             GOIAS|             GLP|          70.52|\n",
      "|CENTRO OESTE|       MATO GROSSO|             GLP|          96.53|\n",
      "|CENTRO OESTE|  DISTRITO FEDERAL|             GLP|          73.39|\n",
      "|CENTRO OESTE|MATO GROSSO DO SUL|             GLP|          75.39|\n",
      "+------------+------------------+----------------+---------------+\n",
      "only showing top 20 rows\n",
      "\n"
     ]
    }
   ],
   "source": [
    "for i in dict:\n",
    "    exec('q2_'+i+\"=df.filter(col('\"+dict[i]+\"') > 0).sort(col('regiao'))\")\n",
    "    exec('q2_'+i+'=q2_'+i+\".groupBy('regiao', 'estado', 'produto')\")\n",
    "    exec('q2_'+i+'=q2_'+i+\".agg(round(avg('\"+dict[i]+\"'),2))\")\n",
    "    exec(\"q2_\"+i+\"=q2_\"+i+\".withColumnRenamed('round(avg(\"+i+\"_preco_medio), 2)','\"+i+\"_preco_medio')\")\n",
    "\n",
    "# Média de valor de cada combustível por estado e região\n",
    "q2_rev.show()"
   ]
  },
  {
   "cell_type": "code",
   "execution_count": 13,
   "metadata": {},
   "outputs": [
    {
     "name": "stdout",
     "output_type": "stream",
     "text": [
      "+---+--------------------+--------------+-------------+--------------+\n",
      "|mes|           municipio|rev_var_minimo|rev_var_medio|rev_var_maximo|\n",
      "+---+--------------------+--------------+-------------+--------------+\n",
      "|  1|          ABAETETUBA|         640.9|        738.9|        835.22|\n",
      "|  1|          ACAILANDIA|        745.17|       841.33|        902.11|\n",
      "|  1|          ADAMANTINA|        629.53|       670.77|         690.4|\n",
      "|  1|AGUAS LINDAS DE G...|        445.11|       534.26|        740.34|\n",
      "|  1|          ALAGOINHAS|        639.88|       651.17|        669.22|\n",
      "|  1|            ALEGRETE|         715.7|       795.31|        952.72|\n",
      "|  1|             ALFENAS|        635.26|       653.35|        737.71|\n",
      "|  1|       ALTA FLORESTA|        1554.8|      1708.76|       1862.94|\n",
      "|  1|            ALVORADA|         665.6|       709.54|        766.93|\n",
      "|  1|           AMERICANA|        530.01|       616.07|        694.03|\n",
      "|  1|              AMPARO|        667.16|       775.63|         891.5|\n",
      "|  1|          ANANINDEUA|        804.74|       959.96|        1361.9|\n",
      "|  1|            ANAPOLIS|        801.48|       839.28|        857.01|\n",
      "|  1|      ANGRA DOS REIS|        690.94|       762.97|        841.33|\n",
      "|  1|APARECIDA DE GOIANIA|        746.07|       801.75|        839.13|\n",
      "|  1|           APUCARANA|        532.77|        660.1|        742.02|\n",
      "|  1|             ARACAJU|        663.32|       738.06|        866.54|\n",
      "|  1|           ARACATUBA|        583.38|       615.11|        686.93|\n",
      "|  1|             ARACRUZ|        485.28|       590.85|        689.71|\n",
      "|  1|           ARAGUAINA|        771.97|       856.63|        971.73|\n",
      "+---+--------------------+--------------+-------------+--------------+\n",
      "only showing top 20 rows\n",
      "\n"
     ]
    }
   ],
   "source": [
    "for i in dict:\n",
    "    exec('q3_'+i+\"=df.filter((col('\"+i+\"_preco_minimo') > 0) | (col('\"+i+\"_preco_maximo') > 0)).sort(col('mes'))\")\n",
    "    exec('q3_'+i+\"=df.filter(col('\"+i+\"_preco_maximo') > 0).sort(col('mes'))\")\n",
    "    exec('q3_'+i+'=q3_'+i+\".groupBy('mes', 'municipio')\")\n",
    "    exec('q3_'+i+'=q3_'+i+\".agg(round(var_samp('\"+i+\"_preco_minimo'),2),round(var_samp('\"+i+\"_preco_medio'),2),round(var_samp('\"+i+\"_preco_maximo'),2))\")\n",
    "    exec(\"q3_\"+i+\"=q3_\"+i+\".withColumnRenamed('round(var_samp(\"+i+\"_preco_maximo), 2)','\"+i+\"_var_maximo')\")\n",
    "    exec(\"q3_\"+i+\"=q3_\"+i+\".withColumnRenamed('round(var_samp(\"+i+\"_preco_minimo), 2)','\"+i+\"_var_minimo')\")\n",
    "    exec(\"q3_\"+i+\"=q3_\"+i+\".withColumnRenamed('round(var_samp(\"+i+\"_preco_medio), 2)','\"+i+\"_var_medio')\")\n",
    "\n",
    "# Variança do máximo e do mínimo de cada cidade, mês a mês.\n",
    "q3_rev.show()"
   ]
  },
  {
   "cell_type": "code",
   "execution_count": 73,
   "metadata": {},
   "outputs": [],
   "source": [
    "for i in dict:\n",
    "    exec('q4_'+i+\"=df.filter((col('\"+i+\"_preco_minimo') > 0) | (col('\"+i+\"_preco_maximo') > 0)).sort(col('municipio'))\")\n",
    "    exec('q4_'+i+\"=df.filter(col('\"+i+\"_preco_maximo') > 0).sort(col('mes'))\")\n",
    "    exec('q4_'+i+'=q4_'+i+\".groupBy('municipio', 'produto')\")\n",
    "    exec('q4_'+i+'=q4_'+i+\".agg(round(avg('\"+i+\"_preco_minimo'),2),round(avg('\"+i+\"_preco_maximo'),2))\")\n",
    "    exec(\"q4_\"+i+\"=q4_\"+i+\".withColumnRenamed('round(avg(\"+i+\"_preco_maximo), 2)','preco_maximo')\")\n",
    "    exec(\"q4_\"+i+\"=q4_\"+i+\".withColumnRenamed('round(avg(\"+i+\"_preco_minimo), 2)','preco_minimo')\")"
   ]
  },
  {
   "cell_type": "code",
   "execution_count": 49,
   "metadata": {},
   "outputs": [
    {
     "ename": "AssertionError",
     "evalue": "all exprs should be Column",
     "output_type": "error",
     "traceback": [
      "\u001b[1;31m---------------------------------------------------------------------------\u001b[0m",
      "\u001b[1;31mAssertionError\u001b[0m                            Traceback (most recent call last)",
      "\u001b[1;32m<ipython-input-49-698b62425805>\u001b[0m in \u001b[0;36m<module>\u001b[1;34m\u001b[0m\n\u001b[1;32m----> 1\u001b[1;33m \u001b[0mq4\u001b[0m\u001b[1;33m.\u001b[0m\u001b[0mgroupBy\u001b[0m\u001b[1;33m(\u001b[0m\u001b[1;34m'municipio, produto'\u001b[0m\u001b[1;33m)\u001b[0m\u001b[1;33m.\u001b[0m\u001b[0magg\u001b[0m\u001b[1;33m(\u001b[0m\u001b[0mmax\u001b[0m\u001b[1;33m(\u001b[0m\u001b[1;34m'rev_preco_minimo'\u001b[0m\u001b[1;33m)\u001b[0m\u001b[1;33m,\u001b[0m\u001b[0mmax\u001b[0m\u001b[1;33m(\u001b[0m\u001b[1;34m'rev_preco_maximo'\u001b[0m\u001b[1;33m)\u001b[0m\u001b[1;33m)\u001b[0m\u001b[1;33m\u001b[0m\u001b[1;33m\u001b[0m\u001b[0m\n\u001b[0m",
      "\u001b[1;32mC:\\spark\\spark-2.4.4-bin-hadoop2.7\\python\\pyspark\\sql\\group.py\u001b[0m in \u001b[0;36magg\u001b[1;34m(self, *exprs)\u001b[0m\n\u001b[0;32m    111\u001b[0m         \u001b[1;32melse\u001b[0m\u001b[1;33m:\u001b[0m\u001b[1;33m\u001b[0m\u001b[1;33m\u001b[0m\u001b[0m\n\u001b[0;32m    112\u001b[0m             \u001b[1;31m# Columns\u001b[0m\u001b[1;33m\u001b[0m\u001b[1;33m\u001b[0m\u001b[1;33m\u001b[0m\u001b[0m\n\u001b[1;32m--> 113\u001b[1;33m             \u001b[1;32massert\u001b[0m \u001b[0mall\u001b[0m\u001b[1;33m(\u001b[0m\u001b[0misinstance\u001b[0m\u001b[1;33m(\u001b[0m\u001b[0mc\u001b[0m\u001b[1;33m,\u001b[0m \u001b[0mColumn\u001b[0m\u001b[1;33m)\u001b[0m \u001b[1;32mfor\u001b[0m \u001b[0mc\u001b[0m \u001b[1;32min\u001b[0m \u001b[0mexprs\u001b[0m\u001b[1;33m)\u001b[0m\u001b[1;33m,\u001b[0m \u001b[1;34m\"all exprs should be Column\"\u001b[0m\u001b[1;33m\u001b[0m\u001b[1;33m\u001b[0m\u001b[0m\n\u001b[0m\u001b[0;32m    114\u001b[0m             jdf = self._jgd.agg(exprs[0]._jc,\n\u001b[0;32m    115\u001b[0m                                 _to_seq(self.sql_ctx._sc, [c._jc for c in exprs[1:]]))\n",
      "\u001b[1;31mAssertionError\u001b[0m: all exprs should be Column"
     ]
    }
   ],
   "source": [
    "q4.groupBy('municipio, produto').agg(max('rev_preco_minimo'),max('rev_preco_maximo'))"
   ]
  },
  {
   "cell_type": "code",
   "execution_count": 40,
   "metadata": {},
   "outputs": [
    {
     "name": "stdout",
     "output_type": "stream",
     "text": [
      "root\n",
      " |-- mes: integer (nullable = true)\n",
      " |-- regiao: string (nullable = true)\n",
      " |-- estado: string (nullable = true)\n",
      " |-- municipio: string (nullable = true)\n",
      " |-- produto: string (nullable = true)\n",
      " |-- n_postos_pesquisados: integer (nullable = true)\n",
      " |-- unidade_medida: string (nullable = true)\n",
      " |-- rev_preco_medio: float (nullable = true)\n",
      " |-- rev_preco_minimo: float (nullable = true)\n",
      " |-- rev_preco_maximo: float (nullable = true)\n",
      " |-- dist_preco_medio: float (nullable = true)\n",
      " |-- dist_preco_minimo: float (nullable = true)\n",
      " |-- dist_preco_maximo: float (nullable = true)\n",
      "\n"
     ]
    }
   ],
   "source": [
    "df.printSchema()"
   ]
  },
  {
   "cell_type": "code",
   "execution_count": 82,
   "metadata": {},
   "outputs": [
    {
     "name": "stdout",
     "output_type": "stream",
     "text": [
      "+--------------------+----------------+------------+----+\n",
      "|           municipio|         produto|preco_minimo|rank|\n",
      "+--------------------+----------------+------------+----+\n",
      "|            CURITIBA|     ÓLEO DIESEL|        3.08|   1|\n",
      "|           SAO PAULO|     ÓLEO DIESEL|        3.11|   2|\n",
      "|SANTO ANTONIO DA ...|     ÓLEO DIESEL|        3.12|   3|\n",
      "| SAO JOSE DOS CAMPOS|     ÓLEO DIESEL|        3.13|   4|\n",
      "|                 POA|     ÓLEO DIESEL|        3.13|   4|\n",
      "|           SAO PAULO|ETANOL HIDRATADO|        2.32|   1|\n",
      "|              CUIABA|ETANOL HIDRATADO|        2.32|   1|\n",
      "|       VARZEA GRANDE|ETANOL HIDRATADO|        2.37|   3|\n",
      "|               BAURU|ETANOL HIDRATADO|        2.39|   4|\n",
      "|            IBITINGA|ETANOL HIDRATADO|        2.39|   4|\n",
      "|            CURITIBA| ÓLEO DIESEL S10|        3.12|   1|\n",
      "|           SAO PAULO| ÓLEO DIESEL S10|        3.17|   2|\n",
      "|SANTO ANTONIO DA ...| ÓLEO DIESEL S10|        3.18|   3|\n",
      "|SAO JOSE DOS PINHAIS| ÓLEO DIESEL S10|        3.19|   4|\n",
      "| SAO JOSE DOS CAMPOS| ÓLEO DIESEL S10|        3.19|   4|\n",
      "|           SAO PAULO|  GASOLINA COMUM|        3.66|   1|\n",
      "|             DIADEMA|  GASOLINA COMUM|        3.71|   2|\n",
      "|              MACAPA|  GASOLINA COMUM|        3.75|   3|\n",
      "|         SANTO ANDRE|  GASOLINA COMUM|        3.75|   3|\n",
      "|             SANTANA|  GASOLINA COMUM|        3.76|   5|\n",
      "+--------------------+----------------+------------+----+\n",
      "only showing top 20 rows\n",
      "\n"
     ]
    }
   ],
   "source": [
    "window = Window.partitionBy(q4_rev['produto']).orderBy(q4_rev['preco_minimo'].asc())\n",
    "\n",
    "# Rank das 5 cidades que tem o menor preço de revenda por produto\n",
    "q4_rev.select('municipio', 'produto', 'preco_minimo', rank().over(window).alias('rank')).filter(col('rank') <= 5) .show() "
   ]
  },
  {
   "cell_type": "code",
   "execution_count": 79,
   "metadata": {},
   "outputs": [
    {
     "name": "stdout",
     "output_type": "stream",
     "text": [
      "+--------------------+----------------+------------+----+\n",
      "|           municipio|         produto|preco_maximo|rank|\n",
      "+--------------------+----------------+------------+----+\n",
      "|     CRUZEIRO DO SUL|     ÓLEO DIESEL|        4.81|   1|\n",
      "|PARAISO DO TOCANTINS|     ÓLEO DIESEL|        4.77|   2|\n",
      "|              MACAPA|     ÓLEO DIESEL|        4.54|   3|\n",
      "|          RIO BRANCO|     ÓLEO DIESEL|        4.52|   4|\n",
      "|          ABAETETUBA|     ÓLEO DIESEL|        4.43|   5|\n",
      "|                BAGE|ETANOL HIDRATADO|        4.91|   1|\n",
      "|          ABAETETUBA|ETANOL HIDRATADO|        4.79|   2|\n",
      "|     CRUZEIRO DO SUL|ETANOL HIDRATADO|        4.56|   3|\n",
      "|             PELOTAS|ETANOL HIDRATADO|        4.54|   4|\n",
      "|       PIMENTA BUENO|ETANOL HIDRATADO|        4.46|   5|\n",
      "|     CRUZEIRO DO SUL| ÓLEO DIESEL S10|        4.92|   1|\n",
      "|PARAISO DO TOCANTINS| ÓLEO DIESEL S10|        4.89|   2|\n",
      "|              MACAPA| ÓLEO DIESEL S10|        4.89|   2|\n",
      "|          RIO BRANCO| ÓLEO DIESEL S10|        4.63|   4|\n",
      "|             SANTANA| ÓLEO DIESEL S10|        4.57|   5|\n",
      "|      ANGRA DOS REIS|  GASOLINA COMUM|        5.71|   1|\n",
      "|PARAISO DO TOCANTINS|  GASOLINA COMUM|        5.53|   2|\n",
      "|     CRUZEIRO DO SUL|  GASOLINA COMUM|        5.38|   3|\n",
      "|          ABAETETUBA|  GASOLINA COMUM|         5.3|   4|\n",
      "|          PETROPOLIS|  GASOLINA COMUM|        5.27|   5|\n",
      "+--------------------+----------------+------------+----+\n",
      "only showing top 20 rows\n",
      "\n"
     ]
    }
   ],
   "source": [
    "window = Window.partitionBy(q4_rev['produto']).orderBy(q4_rev['preco_maximo'].desc())\n",
    "\n",
    "# Rank das 5 cidades que tem o maior preço de revenda por produto\n",
    "q4_rev.select('municipio', 'produto', 'preco_maximo', rank().over(window).alias('rank')).filter(col('rank') <= 5) .show() "
   ]
  },
  {
   "cell_type": "code",
   "execution_count": 83,
   "metadata": {},
   "outputs": [
    {
     "name": "stdout",
     "output_type": "stream",
     "text": [
      "+---------------+----------------+------------+----+\n",
      "|      municipio|         produto|preco_minimo|rank|\n",
      "+---------------+----------------+------------+----+\n",
      "|         ITAJAI|     ÓLEO DIESEL|        2.81|   1|\n",
      "|      ARARANGUA|     ÓLEO DIESEL|        2.85|   2|\n",
      "|      ARAUCARIA|     ÓLEO DIESEL|        2.86|   3|\n",
      "|SAPUCAIA DO SUL|     ÓLEO DIESEL|        2.87|   4|\n",
      "|         MOCOCA|     ÓLEO DIESEL|        2.88|   5|\n",
      "|      SAO PAULO|     ÓLEO DIESEL|        2.88|   5|\n",
      "|        COLOMBO|     ÓLEO DIESEL|        2.88|   5|\n",
      "|      SAO PAULO|ETANOL HIDRATADO|        2.07|   1|\n",
      "|         CUIABA|ETANOL HIDRATADO|        2.09|   2|\n",
      "|  VARZEA GRANDE|ETANOL HIDRATADO|        2.12|   3|\n",
      "|MOGI DAS CRUZES|ETANOL HIDRATADO|        2.13|   4|\n",
      "|      ARACATUBA|ETANOL HIDRATADO|        2.13|   4|\n",
      "|       CURITIBA| ÓLEO DIESEL S10|        2.89|   1|\n",
      "|      SAO PAULO| ÓLEO DIESEL S10|        2.89|   1|\n",
      "|SAPUCAIA DO SUL| ÓLEO DIESEL S10|        2.91|   3|\n",
      "|      GUARULHOS| ÓLEO DIESEL S10|        2.92|   4|\n",
      "|        MARINGA| ÓLEO DIESEL S10|        2.92|   4|\n",
      "|      ARAUCARIA| ÓLEO DIESEL S10|        2.92|   4|\n",
      "|      SAO PAULO|  GASOLINA COMUM|        3.41|   1|\n",
      "|      GUARULHOS|  GASOLINA COMUM|        3.46|   2|\n",
      "+---------------+----------------+------------+----+\n",
      "only showing top 20 rows\n",
      "\n"
     ]
    }
   ],
   "source": [
    "window = Window.partitionBy(q4_dist['produto']).orderBy(q4_dist['preco_minimo'].asc())\n",
    "\n",
    "# Rank das 5 cidades que tem o menor preço de distribuição por produto\n",
    "q4_dist.select('municipio', 'produto', 'preco_minimo', rank().over(window).alias('rank')).filter(col('rank') <= 5) .show() "
   ]
  },
  {
   "cell_type": "code",
   "execution_count": 81,
   "metadata": {},
   "outputs": [
    {
     "name": "stdout",
     "output_type": "stream",
     "text": [
      "+--------------------+----------------+------------+----+\n",
      "|           municipio|         produto|preco_maximo|rank|\n",
      "+--------------------+----------------+------------+----+\n",
      "|     CRUZEIRO DO SUL|     ÓLEO DIESEL|        4.15|   1|\n",
      "|          RIO BRANCO|     ÓLEO DIESEL|        3.77|   2|\n",
      "|              MACAPA|     ÓLEO DIESEL|        3.75|   3|\n",
      "|             SANTANA|     ÓLEO DIESEL|        3.73|   4|\n",
      "|       VOLTA REDONDA|     ÓLEO DIESEL|        3.61|   5|\n",
      "|          ABAETETUBA|ETANOL HIDRATADO|        3.99|   1|\n",
      "|         SAO GABRIEL|ETANOL HIDRATADO|        3.91|   2|\n",
      "|              GUAIBA|ETANOL HIDRATADO|        3.87|   3|\n",
      "|             VACARIA|ETANOL HIDRATADO|        3.85|   4|\n",
      "|             PELOTAS|ETANOL HIDRATADO|        3.83|   5|\n",
      "|     CRUZEIRO DO SUL| ÓLEO DIESEL S10|        4.29|   1|\n",
      "|              MACAPA| ÓLEO DIESEL S10|        4.14|   2|\n",
      "|             SANTANA| ÓLEO DIESEL S10|        3.96|   3|\n",
      "|          RIO BRANCO| ÓLEO DIESEL S10|        3.81|   4|\n",
      "|                TEFE| ÓLEO DIESEL S10|        3.67|   5|\n",
      "|CAMPOS DOS GOYTAC...|  GASOLINA COMUM|        4.57|   1|\n",
      "|      RIO DE JANEIRO|  GASOLINA COMUM|        4.55|   2|\n",
      "|             NITEROI|  GASOLINA COMUM|        4.55|   2|\n",
      "|          PETROPOLIS|  GASOLINA COMUM|        4.53|   4|\n",
      "|     DUQUE DE CAXIAS|  GASOLINA COMUM|         4.5|   5|\n",
      "+--------------------+----------------+------------+----+\n",
      "only showing top 20 rows\n",
      "\n"
     ]
    }
   ],
   "source": [
    "window = Window.partitionBy(q4_dist['produto']).orderBy(q4_dist['preco_maximo'].desc())\n",
    "\n",
    "# Rank das 5 cidades que tem o maior preço de distribuição por produto\n",
    "q4_dist.select('municipio', 'produto', 'preco_maximo', rank().over(window).alias('rank')).filter(col('rank') <= 5) .show() "
   ]
  },
  {
   "cell_type": "code",
   "execution_count": null,
   "metadata": {},
   "outputs": [],
   "source": []
  }
 ],
 "metadata": {
  "kernelspec": {
   "display_name": "Python 3",
   "language": "python",
   "name": "python3"
  },
  "language_info": {
   "codemirror_mode": {
    "name": "ipython",
    "version": 3
   },
   "file_extension": ".py",
   "mimetype": "text/x-python",
   "name": "python",
   "nbconvert_exporter": "python",
   "pygments_lexer": "ipython3",
   "version": "3.7.3"
  }
 },
 "nbformat": 4,
 "nbformat_minor": 4
}
