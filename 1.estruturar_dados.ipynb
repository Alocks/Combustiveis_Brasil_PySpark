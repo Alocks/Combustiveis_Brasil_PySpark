{
 "cells": [
  {
   "cell_type": "code",
   "execution_count": 7,
   "metadata": {},
   "outputs": [
    {
     "data": {
      "text/plain": [
       "'C:\\\\spark\\\\spark-2.4.4-bin-hadoop2.7'"
      ]
     },
     "execution_count": 7,
     "metadata": {},
     "output_type": "execute_result"
    }
   ],
   "source": [
    "import findspark\n",
    "findspark.init()\n",
    "findspark.find()"
   ]
  },
  {
   "cell_type": "code",
   "execution_count": 8,
   "metadata": {},
   "outputs": [],
   "source": [
    "from pyspark import SparkContext, SparkConf\n",
    "from pyspark.sql import SparkSession, SQLContext\n",
    "from pyspark.sql.types import*\n",
    "from pyspark.sql.functions import*"
   ]
  },
  {
   "cell_type": "code",
   "execution_count": 10,
   "metadata": {},
   "outputs": [],
   "source": [
    "conf = SparkConf().setAppName('eleflow').setMaster('local').set('spark.driver.host', 'localhost')\n",
    "sc = SparkContext(conf=conf)\n",
    "spark = SparkSession(sc)"
   ]
  },
  {
   "cell_type": "code",
   "execution_count": 11,
   "metadata": {},
   "outputs": [
    {
     "data": {
      "text/html": [
       "\n",
       "            <div>\n",
       "                <p><b>SparkSession - in-memory</b></p>\n",
       "                \n",
       "        <div>\n",
       "            <p><b>SparkContext</b></p>\n",
       "\n",
       "            <p><a href=\"http://localhost:4040\">Spark UI</a></p>\n",
       "\n",
       "            <dl>\n",
       "              <dt>Version</dt>\n",
       "                <dd><code>v2.4.4</code></dd>\n",
       "              <dt>Master</dt>\n",
       "                <dd><code>local</code></dd>\n",
       "              <dt>AppName</dt>\n",
       "                <dd><code>eleflow</code></dd>\n",
       "            </dl>\n",
       "        </div>\n",
       "        \n",
       "            </div>\n",
       "        "
      ],
      "text/plain": [
       "<pyspark.sql.session.SparkSession at 0x2de34ff87b8>"
      ]
     },
     "execution_count": 11,
     "metadata": {},
     "output_type": "execute_result"
    }
   ],
   "source": [
    "spark"
   ]
  },
  {
   "cell_type": "code",
   "execution_count": 169,
   "metadata": {},
   "outputs": [],
   "source": [
    "schema = StructType([\n",
    "    StructField('mes', StringType()),\n",
    "    StructField('1', StringType()),\n",
    "    StructField('regiao', StringType()),\n",
    "    StructField('estado', StringType()),\n",
    "    StructField('municipio', StringType()),\n",
    "    StructField('produto', StringType()),\n",
    "    StructField('n_postos_pesquisados', StringType()),\n",
    "    StructField('unidade_medida', StringType()),\n",
    "    StructField('rev_preco_med', StringType()),\n",
    "    StructField('2', StringType()),\n",
    "    StructField('rev_preco_min', StringType()),\n",
    "    StructField('rev_preco_max', StringType()),\n",
    "    StructField('3', StringType()),\n",
    "    StructField('4', StringType()),\n",
    "    StructField('dist_preco_med', StringType()),\n",
    "    StructField('5', StringType()),\n",
    "    StructField('dist_preco_min', StringType()),\n",
    "    StructField('dist_preco_max', StringType()),\n",
    "    StructField('6', StringType()),\n",
    "])\n",
    "\n",
    "sqlContext = SQLContext(spark.sparkContext)\n",
    "df = spark.read.csv(path='dataframe.csv', header=True, schema=schema).cache()"
   ]
  },
  {
   "cell_type": "code",
   "execution_count": 170,
   "metadata": {},
   "outputs": [],
   "source": [
    "df = df.withColumn('mes', \n",
    "                to_date(unix_timestamp(col('mes'), 'dd/MM/yyyy').cast('timestamp')))\n",
    "df = df.filter(year('mes') > 2018)\n",
    "df = df.withColumn('mes', month('mes'))\n",
    "    \n",
    "float_lst = ['',\n",
    "       'rev_preco_min',\n",
    "       'rev_preco_med,\n",
    "       'rev_preco_max',\n",
    "       'dist_preco_min',\n",
    "       'dist_preco_med',\n",
    "       'dist_preco_max',\n",
    "      ]\n",
    "\n",
    "for i in float_lst:\n",
    "    df = df.withColumn(i, regexp_replace(i, ',', '.'))\n",
    "    df = df.withColumn(i, df[i].cast(FloatType()))\n",
    "    \n",
    "df = df.withColumn('n_postos_pesquisados', df.n_postos_pesquisados.cast(IntegerType()))\n",
    "df = df.fillna(0)\n",
    "df = df.drop('data_final')\n",
    "df = df.drop('rev_desvio_padrao')\n",
    "df = df.drop('rev_margem_media')\n",
    "df = df.drop('rev_coef_variacao')\n",
    "df = df.drop('dist_coef_variacao')\n",
    "df = df.drop('dist_preco_padrao')\n",
    "df = df.drop('dist_coef_variacao')\n"
   ]
  },
  {
   "cell_type": "code",
   "execution_count": 171,
   "metadata": {},
   "outputs": [
    {
     "name": "stdout",
     "output_type": "stream",
     "text": [
      "root\n",
      " |-- mes: integer (nullable = true)\n",
      " |-- regiao: string (nullable = true)\n",
      " |-- estado: string (nullable = true)\n",
      " |-- municipio: string (nullable = true)\n",
      " |-- produto: string (nullable = true)\n",
      " |-- n_postos_pesquisados: integer (nullable = true)\n",
      " |-- unidade_medida: string (nullable = true)\n",
      " |-- rev_preco_medio: float (nullable = false)\n",
      " |-- rev_preco_minimo: float (nullable = false)\n",
      " |-- rev_preco_maximo: float (nullable = false)\n",
      " |-- dist_preco_medio: float (nullable = false)\n",
      " |-- dist_preco_minimo: float (nullable = false)\n",
      " |-- dist_preco_maximo: float (nullable = false)\n",
      "\n"
     ]
    }
   ],
   "source": [
    "df.printSchema()\n"
   ]
  },
  {
   "cell_type": "code",
   "execution_count": 172,
   "metadata": {},
   "outputs": [],
   "source": [
    "df.write.csv('output', header=True)"
   ]
  },
  {
   "cell_type": "code",
   "execution_count": null,
   "metadata": {},
   "outputs": [],
   "source": []
  }
 ],
 "metadata": {
  "kernelspec": {
   "display_name": "Python 3",
   "language": "python",
   "name": "python3"
  },
  "language_info": {
   "codemirror_mode": {
    "name": "ipython",
    "version": 3
   },
   "file_extension": ".py",
   "mimetype": "text/x-python",
   "name": "python",
   "nbconvert_exporter": "python",
   "pygments_lexer": "ipython3",
   "version": "3.7.3"
  }
 },
 "nbformat": 4,
 "nbformat_minor": 4
}
